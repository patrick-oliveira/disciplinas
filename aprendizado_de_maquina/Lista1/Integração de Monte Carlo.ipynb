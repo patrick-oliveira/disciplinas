{
 "cells": [
  {
   "cell_type": "markdown",
   "id": "surrounded-gamma",
   "metadata": {},
   "source": [
    "Uma das maneiras de estimas a área de um círculo $C$ é através da Integração de Monte Carlo. Podemos amostrar pontos de um quadrado circunscrito em $C$ e observar quantos pontos estão de fato contidos em $C$.\n",
    "\n",
    "Veja o exemplo abaixo:\n",
    "\n",
    "![area_monte_carlo](area_monte_carlo.png)\n",
    "\n",
    "Foram sorteados 1000 pontos dentro da região (um quadrado $2x2$), dos quais $4 / 5$ caíram dentro do círculo. Assim, a área do círculo é $4 / 5$ da da área do quadrado (que é conhecida: 4). Assim, a área estimada de $C$ é $\\frac{4}{5} \\times 4 = 3.2$. \n",
    "\n",
    "Essa estimativa é muito útil também para estimar o valor de $\\pi$: $A_C = \\pi r^{2} = \\pi \\approx 3.2$.\n",
    "\n",
    "Na sua linguagem de programação favorita, implemente um algoritmo que seja capaz de gerar 3 histogramas para os valores obtidos para $\\pi$, cada um realizando 1000 testes em que se sorteiam\n",
    "\n",
    "* 50 pontos por teste\n",
    "* 100 pontos por teste\n",
    "* 500 pontos por teste"
   ]
  },
  {
   "cell_type": "markdown",
   "id": "lesbian-cliff",
   "metadata": {},
   "source": [
    "Os pontos contidos em um quadrado de lado $L = 2$ centrado na origem podem ser escolhidos com o auxílio da função _random.uniform_ da biblioteca numpy, que seleciona amostras da distribuição uniforme em um intervalo especificado de valores. Dado um conjunto de pontos $(x, y)$ selecionados ao acaso, tal ponto estará no círculo se e somente se $x^2 + y^2 < 1$. Com este critério pode-se facilmente contar a proporção de pontos contidos no círculo."
   ]
  },
  {
   "cell_type": "code",
   "execution_count": 1,
   "id": "general-fishing",
   "metadata": {},
   "outputs": [],
   "source": [
    "import numpy as np\n",
    "import matplotlib.pyplot as plt\n",
    "np.random.seed(42)"
   ]
  },
  {
   "cell_type": "code",
   "execution_count": 2,
   "id": "generous-forwarding",
   "metadata": {},
   "outputs": [],
   "source": [
    "# parâmetros\n",
    "pontos_por_teste = [50, 100, 500]\n",
    "num_iter = 1000\n",
    "# salva as areas (proporção * 4) para cada caso ao longo das iterações\n",
    "areas = {50:[], 100:[], 500:[]}\n",
    "# função auxiliar para determinar o número de pontos dentro do círculo\n",
    "pertence_ao_circulo = lambda x: (x[0]**2 + x[1]**2) < 1\n",
    "\n",
    "# Para cada parâmetro N de número de pontos:\n",
    "# 1. Seleciona N pontos em [-1, 1] x [-1, 1] uniformemente.\n",
    "# 2. Especifica quais pontos estão no interior do círculo de raio 1 centro na origem\n",
    "# 3. Salva a proporção de pontos internos ao círculo no dicionário\n",
    "for N in pontos_por_teste:\n",
    "    for t in range(num_iter):\n",
    "        pontos = np.array(list(zip(np.random.uniform(low = -1, high = 1, size = N),\n",
    "                                   np.random.uniform(low = -1, high = 1, size = N))))\n",
    "        pontos_do_circulo = np.apply_along_axis(pertence_ao_circulo,\n",
    "                                                1,\n",
    "                                                pontos).astype(int)\n",
    "        areas[N].append((4*pontos_do_circulo).sum()/N)"
   ]
  },
  {
   "cell_type": "code",
   "execution_count": 3,
   "id": "industrial-proxy",
   "metadata": {},
   "outputs": [
    {
     "data": {
      "image/png": "[encoded data removed]",
      "text/plain": [
       "<Figure size 1440x360 with 3 Axes>"
      ]
     },
     "metadata": {
      "needs_background": "light"
     },
     "output_type": "display_data"
    }
   ],
   "source": [
    "fig, axs = plt.subplots(nrows = 1, ncols = 3, figsize = (20, 5))\n",
    "\n",
    "for k in range(3):\n",
    "    axs[k].hist(areas[pontos_por_teste[k]])\n",
    "    \n",
    "titles = [\"N = 50\", \"N = 100\", \"N = 500\"]\n",
    "for k, title in enumerate(titles):\n",
    "    axs[k].set_title(title, fontsize = 20)\n",
    "    axs[k].set_xlabel(r\"$A_C$\", fontsize = 15)\n",
    "    axs[k].set_ylabel(\"Contagem\", fontsize = 15)"
   ]
  },
  {
   "cell_type": "code",
   "execution_count": null,
   "id": "quality-missouri",
   "metadata": {},
   "outputs": [],
   "source": []
  }
 ],
 "metadata": {
  "kernelspec": {
   "display_name": "Python 3",
   "language": "python",
   "name": "python3"
  },
  "language_info": {
   "codemirror_mode": {
    "name": "ipython",
    "version": 3
   },
   "file_extension": ".py",
   "mimetype": "text/x-python",
   "name": "python",
   "nbconvert_exporter": "python",
   "pygments_lexer": "ipython3",
   "version": "3.8.5"
  }
 },
 "nbformat": 4,
 "nbformat_minor": 5
}
